{
 "cells": [
  {
   "cell_type": "code",
   "execution_count": 29,
   "metadata": {},
   "outputs": [
    {
     "data": {
      "image/png": "[encoded data removed]",
      "text/plain": [
       "<matplotlib.figure.Figure at 0x1ff984ee8d0>"
      ]
     },
     "metadata": {},
     "output_type": "display_data"
    }
   ],
   "source": [
    "\n",
    "\n",
    "%matplotlib inline\n",
    "\n",
    "from modsim import *\n",
    "from pandas import *\n",
    "import csv\n",
    "\n",
    "\n",
    "file = open('data/data.csv')\n",
    "data = csv.reader(file)\n",
    "\n",
    "model_system = System()\n",
    "\n",
    "#plots the sample data\n",
    "def plot_data(data, new = True):\n",
    "    counter = 0\n",
    "    if (new):\n",
    "        newfig()\n",
    "    decorate(xlabel = 'time',\n",
    "            ylabel = '% of women in the workforce')\n",
    "    for i in data:\n",
    "        if (counter > 0):\n",
    "            plot(float(i[0]), float(i[1]), 'go', label='data')\n",
    "        counter += 1\n",
    "\n",
    "#plots the results as well as the sample data on a new or used graph\n",
    "def plot_results(system, color = 'gray', label = 'model', title=None, new = True):\n",
    "    \"\"\"Plot the estimates and the model.\n",
    "\n",
    "    system: System object with `results`\n",
    "    \"\"\"\n",
    "    #plot_data(data, new)\n",
    "    plot(system.results, '--', color = color, label = label)\n",
    "    decorate(xlabel='Year', \n",
    "             ylabel='% of women in workforce',\n",
    "             title=title)\n",
    "\n",
    "#The Model's equation:\n",
    "# f-rate = 0.0081x^2 - 0.8461x + 23.841\n",
    "#where x is equal to the % of women in the workforce\n",
    "\n",
    "\n",
    "#Runs a recursive simulation\n",
    "def run_simulation(system, update_func):\n",
    "    results = TimeSeries()\n",
    "    results[system.t0] = system.p0\n",
    "    for t in linrange(system.t0, system.t_end):\n",
    "        results[t+1] = update_func(results[t], t, system)\n",
    "        #print('t=', t, 'p=', results[t])\n",
    "    system.results = results\n",
    "    \n",
    "#update function for recursive simulation\n",
    "def update_func1(pop, t, system):\n",
    "    new_percentage = (-0.0125*(t**2)) + (50.245 * t) -50427\n",
    "    return new_percentage\n",
    "    \n",
    "#an alternative way of calling the previous recursive simulation\n",
    "def iterative(system):\n",
    "    results = TimeSeries()\n",
    "    for t in linrange(system.t0, system.t_end):\n",
    "        results[t] = (-0.0125*(t**2)) + (50.245 * t) -50430\n",
    "    system.results = results\n",
    "    \n",
    "    \n",
    "#a logistic simulation\n",
    "def iterative_logistic(system):\n",
    "    k = system.k\n",
    "    r = system.r\n",
    "    a = (k - system.p0) / system.p0\n",
    "    results = TimeSeries()\n",
    "    for t in linrange(system.t0, system.t_end):\n",
    "        \n",
    "        results[t] = k / (1 + a*exp(-r * (t)))\n",
    "                          \n",
    "    system.results = results\n",
    "\n",
    "#initializing the system. Alpha, beta, r, and k can/should be moved to be function parameters\n",
    "#alpha and beta totally aren't being used by any equations lol\n",
    "system = System(t0 = 0, p0 = 30, t_end = 1000, alpha = 0.5, beta = 0.9999, k = 60, r = 0.07) #users can input values from 0.01 to 0.1\n",
    "\n",
    "\n",
    "#iterative(system)\n",
    "#plot_results(system, label = 'iterative', title = '% of women in the workforce vs. time', new = True)\n",
    "\n",
    "iterative_logistic(system)\n",
    "plot_results(system, color = 'blue', label = 'logistic', title = '% of women in the workforce vs. time', new = False)\n",
    "\n"
   ]
  },
  {
   "cell_type": "code",
   "execution_count": null,
   "metadata": {
    "collapsed": true
   },
   "outputs": [],
   "source": []
  },
  {
   "cell_type": "code",
   "execution_count": null,
   "metadata": {
    "collapsed": true
   },
   "outputs": [],
   "source": [
    "\t"
   ]
  },
  {
   "cell_type": "code",
   "execution_count": null,
   "metadata": {
    "collapsed": true
   },
   "outputs": [],
   "source": []
  }
 ],
 "metadata": {
  "kernelspec": {
   "display_name": "Python 3",
   "language": "python",
   "name": "python3"
  },
  "language_info": {
   "codemirror_mode": {
    "name": "ipython",
    "version": 3
   },
   "file_extension": ".py",
   "mimetype": "text/x-python",
   "name": "python",
   "nbconvert_exporter": "python",
   "pygments_lexer": "ipython3",
   "version": "3.6.1"
  }
 },
 "nbformat": 4,
 "nbformat_minor": 2
}
