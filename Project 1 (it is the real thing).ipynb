{
 "cells": [
  {
   "cell_type": "code",
   "execution_count": 23,
   "metadata": {},
   "outputs": [
    {
     "name": "stderr",
     "output_type": "stream",
     "text": [
      "C:\\ProgramData\\Miniconda3\\lib\\site-packages\\matplotlib\\axes\\_axes.py:545: UserWarning: No labelled objects found. Use label='...' kwarg on individual plots.\n",
      "  warnings.warn(\"No labelled objects found. \"\n"
     ]
    },
    {
     "data": {
      "text/plain": [
       "'\\ndef workforce_model(a, b, c, data):\\n    estimates = []\\n    counter = 0\\n    for i in reader:\\n        estimate[counter] = a + b*data[i] + c*x**2\\n        counter += 1\\n    return counter\\n\\nworkforce_model(35, 2, 2, reader)\\n'"
      ]
     },
     "execution_count": 23,
     "metadata": {},
     "output_type": "execute_result"
    },
    {
     "data": {
      "image/png": "[encoded data removed]",
      "text/plain": [
       "<matplotlib.figure.Figure at 0x25efe7fd208>"
      ]
     },
     "metadata": {},
     "output_type": "display_data"
    }
   ],
   "source": [
    "%matplotlib inline\n",
    "\n",
    "from modsim import *\n",
    "from pandas import *\n",
    "import csv\n",
    "\n",
    "\n",
    "file = open('data/data.csv')\n",
    "data = csv.reader(file)\n",
    "\n",
    "model_system = System()\n",
    "\n",
    "def plot_data(data):\n",
    "    counter = 0\n",
    "    newfig()\n",
    "    decorate(xlabel = '% of women in the workforce',\n",
    "            ylabel = 'fertility rate')\n",
    "    for i in data:\n",
    "        if (counter > 0):\n",
    "            plot(float(i[1]), float(i[2]), 'go', label='bls')\n",
    "        counter += 1\n",
    "\n",
    "    \n",
    "def plot_results(system, title=None):\n",
    "    \"\"\"Plot the estimates and the model.\n",
    "\n",
    "    system: System object with `results`\n",
    "    \"\"\"\n",
    "    newfig()\n",
    "    plot_data(data)\n",
    "    plot(system.results, '--', color='gray', label='model')\n",
    "    decorate(xlabel='Year', \n",
    "             ylabel='World population (billion)',\n",
    "             title=title)\n",
    "\n",
    "plot_data(data)\n",
    "\n",
    "\n",
    "\n",
    "\n",
    "#The Model's equation:\n",
    "# f-rate = 0.0081x^2 - 0.8461x + 23.841\n",
    "#where x is equal to the % of women in the workforce\n",
    "\n",
    "# Not sure what I'm doing here :(\n",
    "\"\"\"\n",
    "def workforce_model(a, b, c, data):\n",
    "    estimates = []\n",
    "    counter = 0\n",
    "    for i in reader:\n",
    "        estimate[counter] = a + b*data[i] + c*x**2\n",
    "        counter += 1\n",
    "    return counter\n",
    "\n",
    "workforce_model(35, 2, 2, reader)\n",
    "\"\"\"\n",
    "    \n",
    "            \n",
    "    \n",
    "        "
   ]
  },
  {
   "cell_type": "code",
   "execution_count": null,
   "metadata": {
    "collapsed": true
   },
   "outputs": [],
   "source": []
  }
 ],
 "metadata": {
  "kernelspec": {
   "display_name": "Python 3",
   "language": "python",
   "name": "python3"
  },
  "language_info": {
   "codemirror_mode": {
    "name": "ipython",
    "version": 3
   },
   "file_extension": ".py",
   "mimetype": "text/x-python",
   "name": "python",
   "nbconvert_exporter": "python",
   "pygments_lexer": "ipython3",
   "version": "3.6.1"
  }
 },
 "nbformat": 4,
 "nbformat_minor": 2
}
