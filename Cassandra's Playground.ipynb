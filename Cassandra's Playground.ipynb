{
 "cells": [
  {
   "cell_type": "code",
   "execution_count": 3,
   "metadata": {},
   "outputs": [],
   "source": [
    "%matplotlib inline\n",
    "\n",
    "from modsim import *\n",
    "from pandas import *\n",
    "import csv\n",
    "\n",
    "def plot_data():\n",
    "    #function that plots data given csv file. First row is x-axis and second row is y-axis\n",
    "    print('still working on it')\n",
    "    \n",
    "def plot_results(system):\n",
    "    \"\"\"Plot the estimates and the model.\n",
    "    \n",
    "    system: System object with `results`\n",
    "    \"\"\"\n",
    "    newfig()\n",
    "    plot_data() #NEED TO UPDATE\n",
    "    plot(system.results, '--', color='gray', label='model') #plots the model\n",
    "    decorate(xlabel='Year', \n",
    "             ylabel='World population (billion)')\n",
    "    \n",
    "def run_simulation(system, update_func):\n",
    "    \"\"\"Run a model.\n",
    "    \n",
    "    Adds TimeSeries to `system` as `results`.\n",
    "\n",
    "    system: System object\n",
    "    update_func: function that computes the population next year\n",
    "    \"\"\"\n",
    "    results = Series([])\n",
    "    results[system.t0] = system.rate0\n",
    "    for t in linrange(system.t0, system.t_end):\n",
    "        results[t+1] = update_func(results[t], t, system)\n",
    "    system.results = results\n",
    "\n",
    "def update_func2(pop, t, system):\n",
    "    \"\"\"Update population based on a quadratic model.\n",
    "    \n",
    "    pop: current population in billions\n",
    "    t: what year it is\n",
    "    system: system object with model parameters\n",
    "    \"\"\"\n",
    "    net_growth = system.alpha * pop + system.beta * pop**2 #replace with logistic eq\n",
    "    return pop + net_growth\n"
   ]
  },
  {
   "cell_type": "code",
   "execution_count": null,
   "metadata": {
    "collapsed": true
   },
   "outputs": [],
   "source": [
    "t0 = 0 #user can input this \n",
    "rate0 = 40 #user inputs this\n",
    "t_end = 2017 #user can input this\n",
    "system = System(t0=t0, \n",
    "                t_end=t_end,\n",
    "                rate0 = rate0,\n",
    "                alpha=50.245,\n",
    "                beta=-0.0125)\n",
    "# y = -0.0125x2 + 50.245x - 50302\n"
   ]
  },
  {
   "cell_type": "code",
   "execution_count": null,
   "metadata": {
    "collapsed": true
   },
   "outputs": [],
   "source": [
    "plot_data()"
   ]
  }
 ],
 "metadata": {
  "kernelspec": {
   "display_name": "Python 3",
   "language": "python",
   "name": "python3"
  },
  "language_info": {
   "codemirror_mode": {
    "name": "ipython",
    "version": 3
   },
   "file_extension": ".py",
   "mimetype": "text/x-python",
   "name": "python",
   "nbconvert_exporter": "python",
   "pygments_lexer": "ipython3",
   "version": "3.6.1"
  }
 },
 "nbformat": 4,
 "nbformat_minor": 2
}
